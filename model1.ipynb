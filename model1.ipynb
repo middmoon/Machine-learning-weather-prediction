{
 "cells": [
  {
   "cell_type": "code",
   "execution_count": 750,
   "metadata": {},
   "outputs": [],
   "source": [
    "#Model 1"
   ]
  },
  {
   "cell_type": "code",
   "execution_count": 751,
   "metadata": {},
   "outputs": [],
   "source": [
    "import pandas as pd\n",
    "from sklearn.model_selection import train_test_split\n",
    "from sklearn.preprocessing import StandardScaler, OneHotEncoder\n",
    "from sklearn.multioutput import MultiOutputRegressor\n",
    "from sklearn.ensemble import RandomForestRegressor\n",
    "from sklearn.metrics import mean_squared_error, r2_score\n",
    "from sklearn.metrics import accuracy_score, f1_score, confusion_matrix\n",
    "from sklearn.model_selection import GridSearchCV\n",
    "from sklearn.ensemble import RandomForestClassifier\n",
    "import joblib\n"
   ]
  },
  {
   "cell_type": "code",
   "execution_count": 752,
   "metadata": {},
   "outputs": [],
   "source": [
    "df = pd.read_csv('weather.csv')"
   ]
  },
  {
   "cell_type": "code",
   "execution_count": 753,
   "metadata": {},
   "outputs": [],
   "source": [
    "unique_provinces = df['province'].unique()\n",
    "num_provinces = len(unique_provinces)\n",
    "\n",
    "# Mã hóa OneHotEncoder cho các tỉnh thành\n",
    "df_province = pd.DataFrame({'province': unique_provinces})\n",
    "onehot_encoder = OneHotEncoder(sparse_output=False)\n",
    "encoded_provinces = onehot_encoder.fit_transform(df_province[['province']])\n",
    "\n",
    "df_province_encoded = pd.DataFrame(encoded_provinces, columns=onehot_encoder.get_feature_names_out(['province']))\n",
    "\n",
    "# Thêm các cột mã hóa vào DataFrame gốc\n",
    "df = pd.concat([df.reset_index(drop=True), df_province_encoded.reset_index(drop=True)], axis=1)"
   ]
  },
  {
   "cell_type": "code",
   "execution_count": null,
   "metadata": {},
   "outputs": [],
   "source": [
    "# Xác định có mưa\n",
    "df['have_rain'] = df['rain'] > 0\n",
    "\n",
    "df['have_rain'] = df['have_rain'].astype(bool)\n",
    "\n",
    "# Kiểm tra phân tích hướng gió\n",
    "unique_wind_d = df['wind_d'].unique()\n",
    "num_wind_d = len(unique_wind_d)\n",
    "\n",
    "# Định dạng hướng gió\n",
    "wind_direction_mapping = {\n",
    "    'N': 0,\n",
    "    'NNE': 22.5,\n",
    "    'NE': 45,\n",
    "    'ENE': 67.5,\n",
    "    'E': 90,\n",
    "    'ESE': 112.5,\n",
    "    'SE': 135,\n",
    "    'SSE': 157.5,\n",
    "    'S': 180,\n",
    "    'SSW': 202.5,\n",
    "    'SW': 225,\n",
    "    'WSW': 247.5,\n",
    "    'W': 270,\n",
    "    'WNW': 292.5,\n",
    "    'NW': 315,\n",
    "    'NNW': 337.5\n",
    "}\n",
    "\n",
    "df['wind_degree'] = df['wind_d'].map(wind_direction_mapping)\n",
    "\n",
    "df['date'] = pd.to_datetime(df['date'])\n",
    "\n",
    "df['year'] = df['date'].dt.year\n",
    "df['month'] = df['date'].dt.month\n",
    "df['day'] = df['date'].dt.day\n",
    "df['day_of_week'] = df['date'].dt.day_name()  \n",
    "df['week_of_year'] = df['date'].dt.isocalendar().week \n",
    "df['year_quarter'] = df['date'].dt.to_period('Q').astype('int')\n",
    "df['month_period'] = df['date'].dt.to_period('M').astype('int')\n",
    "\n",
    "day_of_week_mapping = {\n",
    "    'Monday': 1,\n",
    "    'Tuesday': 2,\n",
    "    'Wednesday': 3,\n",
    "    'Thursday': 4,\n",
    "    'Friday': 5,\n",
    "    'Saturday': 6,\n",
    "    'Sunday': 7\n",
    "}\n",
    "\n",
    "df['day_of_week_encoded'] = df['day_of_week'].map(day_of_week_mapping)\n",
    "\n",
    "\n",
    "df.info()"
   ]
  },
  {
   "cell_type": "code",
   "execution_count": 755,
   "metadata": {},
   "outputs": [],
   "source": [
    "# Thay đổi X để sử dụng cột đã mã hóa\n",
    "X = df[['province', 'year', 'month', 'day', 'day_of_week_encoded', 'week_of_year', 'year_quarter', 'month_period']]\n",
    "y = df[['max', 'min', 'wind', 'wind_degree', 'humidi', 'cloud', 'pressure']]"
   ]
  },
  {
   "cell_type": "code",
   "execution_count": 756,
   "metadata": {},
   "outputs": [],
   "source": [
    "# Mã hóa tỉnh thành phố\n",
    "encoder = OneHotEncoder(sparse_output=False)\n",
    "X_encoded = encoder.fit_transform(X[['province']])\n",
    "X_encoded_df = pd.DataFrame(X_encoded, columns=encoder.get_feature_names_out(['province']))"
   ]
  },
  {
   "cell_type": "code",
   "execution_count": 757,
   "metadata": {},
   "outputs": [],
   "source": [
    "# Kết hợp các cột đã mã hóa với dữ liệu ngày tháng\n",
    "X_final = pd.concat([X.drop('province', axis=1), X_encoded_df], axis=1)"
   ]
  },
  {
   "cell_type": "code",
   "execution_count": 758,
   "metadata": {},
   "outputs": [],
   "source": [
    "# Chia dữ liệu thành tập huấn luyện và tập kiểm tra\n",
    "X_train, X_test, y_train, y_test = train_test_split(X_final, y, test_size=0.3, random_state=42)"
   ]
  },
  {
   "cell_type": "code",
   "execution_count": 759,
   "metadata": {},
   "outputs": [],
   "source": [
    "# Tiền xử lý dữ liệu (chuẩn hóa)\n",
    "scaler = StandardScaler()\n",
    "X_train_scaled = scaler.fit_transform(X_train)\n",
    "X_test_scaled = scaler.transform(X_test)"
   ]
  },
  {
   "cell_type": "code",
   "execution_count": 760,
   "metadata": {},
   "outputs": [],
   "source": [
    "model = MultiOutputRegressor(RandomForestRegressor(random_state=42))\n",
    "\n",
    "# Huấn luyện mô hình\n",
    "model.fit(X_train_scaled, y_train)\n",
    "\n",
    "# Lưu mô hình tốt nhất\n",
    "model1 = model\n"
   ]
  },
  {
   "cell_type": "code",
   "execution_count": 761,
   "metadata": {},
   "outputs": [],
   "source": [
    "# Dự đoán trên tập kiểm tra\n",
    "y_pred = model1.predict(X_test_scaled)"
   ]
  },
  {
   "cell_type": "code",
   "execution_count": 783,
   "metadata": {},
   "outputs": [
    {
     "name": "stdout",
     "output_type": "stream",
     "text": [
      "Max Temperature - MSE: 2.9173087968051585\n",
      "Max Temperature - R^2: 0.8601165042727765\n",
      "Min Temperature - MSE: 1.5133661592291345\n",
      "Min Temperature - R^2: 0.9025337422519619\n",
      "Wind - MSE: 7.892598212061258\n",
      "Wind - R^2: 0.7184520592256866\n",
      "Wind Degree - MSE: 1588.7784102962191\n",
      "Wind Degree - R^2: 0.6855485355884514\n",
      "Humidity - MSE: 20.88738897559903\n",
      "Humidity - R^2: 0.7586214902381826\n",
      "Cloud - MSE: 220.5018375833517\n",
      "Cloud - R^2: 0.6153468659893951\n",
      "Pressure - MSE: 2.397195276434381\n",
      "Pressure - R^2: 0.8885644279650023\n"
     ]
    }
   ],
   "source": [
    "# Đánh giá mô hình\n",
    "print('Max Temperature - MSE:', mean_squared_error(y_test['max'], y_pred[:, 0]))\n",
    "print('Max Temperature - R^2:', r2_score(y_test['max'], y_pred[:, 0]))\n",
    "print('Min Temperature - MSE:', mean_squared_error(y_test['min'], y_pred[:, 1]))\n",
    "print('Min Temperature - R^2:', r2_score(y_test['min'], y_pred[:, 1]))\n",
    "print('Wind - MSE:', mean_squared_error(y_test['wind'], y_pred[:, 2]))\n",
    "print('Wind - R^2:', r2_score(y_test['wind'], y_pred[:, 2]))\n",
    "print('Wind Degree - MSE:', mean_squared_error(y_test['wind_degree'], y_pred[:, 3]))\n",
    "print('Wind Degree - R^2:', r2_score(y_test['wind_degree'], y_pred[:, 3]))\n",
    "print('Humidity - MSE:', mean_squared_error(y_test['humidi'], y_pred[:, 4]))\n",
    "print('Humidity - R^2:', r2_score(y_test['humidi'], y_pred[:, 4]))\n",
    "print('Cloud - MSE:', mean_squared_error(y_test['cloud'], y_pred[:, 5]))\n",
    "print('Cloud - R^2:', r2_score(y_test['cloud'], y_pred[:, 5]))\n",
    "print('Pressure - MSE:', mean_squared_error(y_test['pressure'], y_pred[:, 6]))\n",
    "print('Pressure - R^2:', r2_score(y_test['pressure'], y_pred[:, 6]))"
   ]
  },
  {
   "cell_type": "code",
   "execution_count": null,
   "metadata": {},
   "outputs": [],
   "source": [
    "# Tạo DataFrame cho ngày cụ thể\n",
    "data = {\n",
    "    'province': ['Ho Chi Minh City'],\n",
    "    'date': [pd.to_datetime('2024-09-20')],\n",
    "}\n",
    "\n",
    "df_input = pd.DataFrame(data)\n",
    "\n",
    "\n",
    "# Tiền xử lý dữ liệu đầu vào\n",
    "df_input['year'] = df_input['date'].dt.year\n",
    "df_input['month'] = df_input['date'].dt.month\n",
    "df_input['day'] = df_input['date'].dt.day\n",
    "df_input['day_of_week'] = df_input['date'].dt.day_name()\n",
    "df_input['week_of_year'] = df_input['date'].dt.isocalendar().week\n",
    "df_input['year_quarter'] = df_input['date'].dt.to_period('Q').astype('int')\n",
    "df_input['month_period'] = df_input['date'].dt.to_period('M').astype('int')\n",
    "\n",
    "day_of_week_mapping = {\n",
    "    'Monday': 1,\n",
    "    'Tuesday': 2,\n",
    "    'Wednesday': 3,\n",
    "    'Thursday': 4,\n",
    "    'Friday': 5,\n",
    "    'Saturday': 6,\n",
    "    'Sunday': 7\n",
    "}\n",
    "\n",
    "df_input['day_of_week_encoded'] = df_input['day_of_week'].map(day_of_week_mapping)\n",
    "\n",
    "# Giả sử encoder đã được khởi tạo trước đó như sau:\n",
    "# encoder = OneHotEncoder(sparse=False)\n",
    "\n",
    "# Mã hóa tỉnh thành\n",
    "province_encoded = encoder.transform(df_input[['province']])\n",
    "province_encoded_df = pd.DataFrame(province_encoded, columns=encoder.get_feature_names_out(['province']))\n",
    "\n",
    "# Kết hợp các cột đã mã hóa với dữ liệu ngày tháng\n",
    "X_input = pd.concat([df_input.drop(['province', 'date', 'day_of_week'], axis=1), province_encoded_df], axis=1)\n",
    "\n",
    "# Đảm bảo thứ tự cột đúng bằng cách sắp xếp lại theo thứ tự của X_train\n",
    "X_input = X_input.reindex(columns=X_final.columns, fill_value=0)\n",
    "\n",
    "# Chuẩn hóa dữ liệu đầu vào\n",
    "X_input_scaled = scaler.transform(X_input)\n",
    "\n",
    "# Dự đoán\n",
    "y_pred_input = model.predict(X_input_scaled)\n",
    "\n",
    "# In kết quả dự đoán\n",
    "print('Dự đoán cho Ho Chi Minh City vào ngày 2024-09-20:')\n",
    "print('Max Temperature:', y_pred_input[0, 0])\n",
    "print('Min Temperature:', y_pred_input[0, 1])\n",
    "print('Wind Speed:', y_pred_input[0, 2])\n",
    "print('Wind Degree:', y_pred_input[0, 3])\n",
    "print('Humidity:', y_pred_input[0, 4])\n",
    "print('Cloud:', y_pred_input[0, 5])\n",
    "print('Pressure:', y_pred_input[0, 6])\n"
   ]
  },
  {
   "cell_type": "code",
   "execution_count": 764,
   "metadata": {},
   "outputs": [],
   "source": [
    "# model 2"
   ]
  },
  {
   "cell_type": "code",
   "execution_count": 765,
   "metadata": {},
   "outputs": [],
   "source": [
    "# Xác định biến đầu vào (X) và đầu ra (y) cho mô hình dự đoán mưa\n",
    "X_rain = df[['max', 'min', 'wind', 'wind_degree', 'humidi', 'cloud', 'pressure']]\n",
    "y_rain = df['have_rain']"
   ]
  },
  {
   "cell_type": "code",
   "execution_count": 766,
   "metadata": {},
   "outputs": [],
   "source": [
    "X_train_rain, X_test_rain, y_train_rain, y_test_rain = train_test_split(X_rain, y_rain, test_size=0.3, random_state=42)"
   ]
  },
  {
   "cell_type": "code",
   "execution_count": null,
   "metadata": {},
   "outputs": [],
   "source": [
    "scaler_rain = StandardScaler()\n",
    "X_train_rain_scaled = scaler_rain.fit_transform(X_train_rain)\n",
    "X_test_rain_scaled = scaler_rain.transform(X_test_rain)\n",
    "\n",
    "joblib.dump(scaler_rain, 'scaler_rain.pkl')"
   ]
  },
  {
   "cell_type": "code",
   "execution_count": 768,
   "metadata": {},
   "outputs": [],
   "source": [
    "# Định nghĩa tham số cho GridSearch\n",
    "param_grid = {\n",
    "    'n_estimators': [100, 200],\n",
    "    'max_depth': [None, 10],\n",
    "    'min_samples_split': [2, 5],\n",
    "    'min_samples_leaf': [1, 2]\n",
    "}\n",
    "\n",
    "# Khởi tạo mô hình hồi quy logistic\n",
    "model2 = RandomForestClassifier(random_state=42)\n",
    "\n",
    "# Thực hiện GridSearch\n",
    "grid_search = GridSearchCV(estimator=model2, param_grid=param_grid, cv=2, scoring='r2', n_jobs=-1)\n",
    "grid_search.fit(X_train_rain_scaled, y_train_rain)\n",
    "\n",
    "# Huấn luyện mô hình\n",
    "model2 = grid_search.best_estimator_"
   ]
  },
  {
   "cell_type": "code",
   "execution_count": 769,
   "metadata": {},
   "outputs": [],
   "source": [
    "# Dự đoán trên tập kiểm tra\n",
    "y_pred_rain = model2.predict(X_test_rain_scaled)"
   ]
  },
  {
   "cell_type": "code",
   "execution_count": 784,
   "metadata": {},
   "outputs": [
    {
     "ename": "ValueError",
     "evalue": "Found input variables with inconsistent numbers of samples: [54588, 1]",
     "output_type": "error",
     "traceback": [
      "\u001b[1;31m---------------------------------------------------------------------------\u001b[0m",
      "\u001b[1;31mValueError\u001b[0m                                Traceback (most recent call last)",
      "Cell \u001b[1;32mIn[784], line 2\u001b[0m\n\u001b[0;32m      1\u001b[0m \u001b[38;5;66;03m# Đánh giá mô hình\u001b[39;00m\n\u001b[1;32m----> 2\u001b[0m accuracy \u001b[38;5;241m=\u001b[39m \u001b[43maccuracy_score\u001b[49m\u001b[43m(\u001b[49m\u001b[43my_test_rain\u001b[49m\u001b[43m,\u001b[49m\u001b[43m \u001b[49m\u001b[43my_pred_rain\u001b[49m\u001b[43m)\u001b[49m\n\u001b[0;32m      3\u001b[0m f1 \u001b[38;5;241m=\u001b[39m f1_score(y_test_rain, y_pred_rain)\n\u001b[0;32m      4\u001b[0m confusion \u001b[38;5;241m=\u001b[39m confusion_matrix(y_test_rain, y_pred_rain)\n",
      "File \u001b[1;32mc:\\Users\\middm\\OneDrive\\Desktop\\python\\weather-prediction\\env\\Lib\\site-packages\\sklearn\\utils\\_param_validation.py:213\u001b[0m, in \u001b[0;36mvalidate_params.<locals>.decorator.<locals>.wrapper\u001b[1;34m(*args, **kwargs)\u001b[0m\n\u001b[0;32m    207\u001b[0m \u001b[38;5;28;01mtry\u001b[39;00m:\n\u001b[0;32m    208\u001b[0m     \u001b[38;5;28;01mwith\u001b[39;00m config_context(\n\u001b[0;32m    209\u001b[0m         skip_parameter_validation\u001b[38;5;241m=\u001b[39m(\n\u001b[0;32m    210\u001b[0m             prefer_skip_nested_validation \u001b[38;5;129;01mor\u001b[39;00m global_skip_validation\n\u001b[0;32m    211\u001b[0m         )\n\u001b[0;32m    212\u001b[0m     ):\n\u001b[1;32m--> 213\u001b[0m         \u001b[38;5;28;01mreturn\u001b[39;00m \u001b[43mfunc\u001b[49m\u001b[43m(\u001b[49m\u001b[38;5;241;43m*\u001b[39;49m\u001b[43margs\u001b[49m\u001b[43m,\u001b[49m\u001b[43m \u001b[49m\u001b[38;5;241;43m*\u001b[39;49m\u001b[38;5;241;43m*\u001b[39;49m\u001b[43mkwargs\u001b[49m\u001b[43m)\u001b[49m\n\u001b[0;32m    214\u001b[0m \u001b[38;5;28;01mexcept\u001b[39;00m InvalidParameterError \u001b[38;5;28;01mas\u001b[39;00m e:\n\u001b[0;32m    215\u001b[0m     \u001b[38;5;66;03m# When the function is just a wrapper around an estimator, we allow\u001b[39;00m\n\u001b[0;32m    216\u001b[0m     \u001b[38;5;66;03m# the function to delegate validation to the estimator, but we replace\u001b[39;00m\n\u001b[0;32m    217\u001b[0m     \u001b[38;5;66;03m# the name of the estimator by the name of the function in the error\u001b[39;00m\n\u001b[0;32m    218\u001b[0m     \u001b[38;5;66;03m# message to avoid confusion.\u001b[39;00m\n\u001b[0;32m    219\u001b[0m     msg \u001b[38;5;241m=\u001b[39m re\u001b[38;5;241m.\u001b[39msub(\n\u001b[0;32m    220\u001b[0m         \u001b[38;5;124mr\u001b[39m\u001b[38;5;124m\"\u001b[39m\u001b[38;5;124mparameter of \u001b[39m\u001b[38;5;124m\\\u001b[39m\u001b[38;5;124mw+ must be\u001b[39m\u001b[38;5;124m\"\u001b[39m,\n\u001b[0;32m    221\u001b[0m         \u001b[38;5;124mf\u001b[39m\u001b[38;5;124m\"\u001b[39m\u001b[38;5;124mparameter of \u001b[39m\u001b[38;5;132;01m{\u001b[39;00mfunc\u001b[38;5;241m.\u001b[39m\u001b[38;5;18m__qualname__\u001b[39m\u001b[38;5;132;01m}\u001b[39;00m\u001b[38;5;124m must be\u001b[39m\u001b[38;5;124m\"\u001b[39m,\n\u001b[0;32m    222\u001b[0m         \u001b[38;5;28mstr\u001b[39m(e),\n\u001b[0;32m    223\u001b[0m     )\n",
      "File \u001b[1;32mc:\\Users\\middm\\OneDrive\\Desktop\\python\\weather-prediction\\env\\Lib\\site-packages\\sklearn\\metrics\\_classification.py:231\u001b[0m, in \u001b[0;36maccuracy_score\u001b[1;34m(y_true, y_pred, normalize, sample_weight)\u001b[0m\n\u001b[0;32m    229\u001b[0m xp, _, device \u001b[38;5;241m=\u001b[39m get_namespace_and_device(y_true, y_pred, sample_weight)\n\u001b[0;32m    230\u001b[0m \u001b[38;5;66;03m# Compute accuracy for each possible representation\u001b[39;00m\n\u001b[1;32m--> 231\u001b[0m y_type, y_true, y_pred \u001b[38;5;241m=\u001b[39m \u001b[43m_check_targets\u001b[49m\u001b[43m(\u001b[49m\u001b[43my_true\u001b[49m\u001b[43m,\u001b[49m\u001b[43m \u001b[49m\u001b[43my_pred\u001b[49m\u001b[43m)\u001b[49m\n\u001b[0;32m    232\u001b[0m check_consistent_length(y_true, y_pred, sample_weight)\n\u001b[0;32m    233\u001b[0m \u001b[38;5;28;01mif\u001b[39;00m y_type\u001b[38;5;241m.\u001b[39mstartswith(\u001b[38;5;124m\"\u001b[39m\u001b[38;5;124mmultilabel\u001b[39m\u001b[38;5;124m\"\u001b[39m):\n",
      "File \u001b[1;32mc:\\Users\\middm\\OneDrive\\Desktop\\python\\weather-prediction\\env\\Lib\\site-packages\\sklearn\\metrics\\_classification.py:103\u001b[0m, in \u001b[0;36m_check_targets\u001b[1;34m(y_true, y_pred)\u001b[0m\n\u001b[0;32m     76\u001b[0m \u001b[38;5;250m\u001b[39m\u001b[38;5;124;03m\"\"\"Check that y_true and y_pred belong to the same classification task.\u001b[39;00m\n\u001b[0;32m     77\u001b[0m \n\u001b[0;32m     78\u001b[0m \u001b[38;5;124;03mThis converts multiclass or binary types to a common shape, and raises a\u001b[39;00m\n\u001b[1;32m   (...)\u001b[0m\n\u001b[0;32m    100\u001b[0m \u001b[38;5;124;03my_pred : array or indicator matrix\u001b[39;00m\n\u001b[0;32m    101\u001b[0m \u001b[38;5;124;03m\"\"\"\u001b[39;00m\n\u001b[0;32m    102\u001b[0m xp, _ \u001b[38;5;241m=\u001b[39m get_namespace(y_true, y_pred)\n\u001b[1;32m--> 103\u001b[0m \u001b[43mcheck_consistent_length\u001b[49m\u001b[43m(\u001b[49m\u001b[43my_true\u001b[49m\u001b[43m,\u001b[49m\u001b[43m \u001b[49m\u001b[43my_pred\u001b[49m\u001b[43m)\u001b[49m\n\u001b[0;32m    104\u001b[0m type_true \u001b[38;5;241m=\u001b[39m type_of_target(y_true, input_name\u001b[38;5;241m=\u001b[39m\u001b[38;5;124m\"\u001b[39m\u001b[38;5;124my_true\u001b[39m\u001b[38;5;124m\"\u001b[39m)\n\u001b[0;32m    105\u001b[0m type_pred \u001b[38;5;241m=\u001b[39m type_of_target(y_pred, input_name\u001b[38;5;241m=\u001b[39m\u001b[38;5;124m\"\u001b[39m\u001b[38;5;124my_pred\u001b[39m\u001b[38;5;124m\"\u001b[39m)\n",
      "File \u001b[1;32mc:\\Users\\middm\\OneDrive\\Desktop\\python\\weather-prediction\\env\\Lib\\site-packages\\sklearn\\utils\\validation.py:457\u001b[0m, in \u001b[0;36mcheck_consistent_length\u001b[1;34m(*arrays)\u001b[0m\n\u001b[0;32m    455\u001b[0m uniques \u001b[38;5;241m=\u001b[39m np\u001b[38;5;241m.\u001b[39munique(lengths)\n\u001b[0;32m    456\u001b[0m \u001b[38;5;28;01mif\u001b[39;00m \u001b[38;5;28mlen\u001b[39m(uniques) \u001b[38;5;241m>\u001b[39m \u001b[38;5;241m1\u001b[39m:\n\u001b[1;32m--> 457\u001b[0m     \u001b[38;5;28;01mraise\u001b[39;00m \u001b[38;5;167;01mValueError\u001b[39;00m(\n\u001b[0;32m    458\u001b[0m         \u001b[38;5;124m\"\u001b[39m\u001b[38;5;124mFound input variables with inconsistent numbers of samples: \u001b[39m\u001b[38;5;132;01m%r\u001b[39;00m\u001b[38;5;124m\"\u001b[39m\n\u001b[0;32m    459\u001b[0m         \u001b[38;5;241m%\u001b[39m [\u001b[38;5;28mint\u001b[39m(l) \u001b[38;5;28;01mfor\u001b[39;00m l \u001b[38;5;129;01min\u001b[39;00m lengths]\n\u001b[0;32m    460\u001b[0m     )\n",
      "\u001b[1;31mValueError\u001b[0m: Found input variables with inconsistent numbers of samples: [54588, 1]"
     ]
    }
   ],
   "source": [
    "# Đánh giá mô hình\n",
    "accuracy = accuracy_score(y_test_rain, y_pred_rain)\n",
    "f1 = f1_score(y_test_rain, y_pred_rain)\n",
    "confusion = confusion_matrix(y_test_rain, y_pred_rain)\n",
    "\n",
    "print('Accuracy:', accuracy)\n",
    "print('F1 Score:', f1)\n",
    "print('Confusion Matrix:\\n', confusion)"
   ]
  },
  {
   "cell_type": "code",
   "execution_count": null,
   "metadata": {},
   "outputs": [],
   "source": [
    "# Giả sử y_pred_input đã được tính toán từ model 1\n",
    "max_temp = y_pred_input[0, 0]\n",
    "min_temp = y_pred_input[0, 1]\n",
    "wind_speed = y_pred_input[0, 2]\n",
    "wind_degree = y_pred_input[0, 3]\n",
    "humidity = y_pred_input[0, 4]\n",
    "cloud = y_pred_input[0, 5]\n",
    "pressure = y_pred_input[0, 6]\n",
    "\n",
    "# Tạo DataFrame cho đầu vào của model 2\n",
    "data_model2 = {\n",
    "    'max': [max_temp],\n",
    "    'min': [min_temp],\n",
    "    'wind': [wind_speed],\n",
    "    'wind_degree': [wind_degree],\n",
    "    'humidi': [humidity],\n",
    "    'cloud': [cloud],\n",
    "    'pressure': [pressure]\n",
    "}\n",
    "\n",
    "df_input_model2 = pd.DataFrame(data_model2)\n",
    "\n",
    "# Nếu model 2 cần chuẩn hóa đầu vào\n",
    "X_input_model2_scaled = scaler_rain.transform(df_input_model2)\n",
    "\n",
    "# Dự đoán với model 2\n",
    "y_pred_rain = model2.predict(X_input_model2_scaled)\n",
    "\n",
    "# In kết quả dự đoán của model 2\n",
    "print('Dự đoán về khả năng có mưa cho Ho Chi Minh City vào ngày 2024-09-20:')\n",
    "print('Có mưa:', y_pred_rain[0])"
   ]
  },
  {
   "cell_type": "code",
   "execution_count": 771,
   "metadata": {},
   "outputs": [],
   "source": [
    "# Model 3"
   ]
  },
  {
   "cell_type": "code",
   "execution_count": null,
   "metadata": {},
   "outputs": [],
   "source": [
    "# Xác định biến đầu vào (X) và đầu ra (y) cho mô hình dự đoán lượng mưa\n",
    "df_rain_filtered = df[df['have_rain'] == True]\n",
    "\n",
    "df_rain_filtered.info()\n",
    "\n",
    "X_rain_amount = df_rain_filtered[['max', 'min', 'wind', 'wind_degree', 'humidi', 'cloud', 'pressure']]\n",
    "y_rain_amount = df_rain_filtered['rain']"
   ]
  },
  {
   "cell_type": "code",
   "execution_count": 773,
   "metadata": {},
   "outputs": [],
   "source": [
    "X_train_rain_amount, X_test_rain_amount, y_train_rain_amount, y_test_rain_amount = train_test_split(X_rain_amount, y_rain_amount, test_size=0.3, random_state=42)"
   ]
  },
  {
   "cell_type": "code",
   "execution_count": null,
   "metadata": {},
   "outputs": [],
   "source": [
    "scaler_rain_amount = StandardScaler()\n",
    "X_train_rain_amount_scaled = scaler_rain_amount.fit_transform(X_train_rain_amount)\n",
    "X_test_rain_amount_scaled = scaler_rain_amount.transform(X_test_rain_amount)\n",
    "joblib.dump(scaler_rain_amount, 'scaler_rain_amount.pkl')"
   ]
  },
  {
   "cell_type": "code",
   "execution_count": null,
   "metadata": {},
   "outputs": [],
   "source": [
    "# Định nghĩa tham số cho GridSearch\n",
    "param_grid = {\n",
    "    'n_estimators': [50, 100],  # Số lượng cây trong rừng\n",
    "    'max_depth': [None, 5],  # Độ sâu tối đa của mỗi cây\n",
    "    'min_samples_split': [2, 5],  # Số lượng mẫu tối thiểu để chia\n",
    "    'min_samples_leaf': [1, 2, ],  # Số lượng mẫu tối thiểu trong mỗi lá\n",
    "    'max_features': ['sqrt', 'log2']  # Số lượng biến tối đa để xem xét tại mỗi phân nhánh\n",
    "}\n",
    "\n",
    "# Tạo mô hình Random Forest\n",
    "model = RandomForestRegressor(random_state=42)\n",
    "\n",
    "# Thực hiện GridSearch\n",
    "grid_search = GridSearchCV(estimator=model, param_grid=param_grid, cv=3, scoring='r2', n_jobs=-1)\n",
    "grid_search.fit(X_train_rain_amount_scaled, y_train_rain_amount)\n",
    "\n",
    "# Lưu mô hình tốt nhất\n",
    "model3 = grid_search.best_estimator_\n"
   ]
  },
  {
   "cell_type": "code",
   "execution_count": 776,
   "metadata": {},
   "outputs": [],
   "source": [
    "# # Dự đoán mẫu\n",
    "y_pred_rain_amount = model3.predict(X_test_rain_amount_scaled)"
   ]
  },
  {
   "cell_type": "code",
   "execution_count": null,
   "metadata": {},
   "outputs": [],
   "source": [
    "#Đánh giá mô hình \n",
    "mse_rain_amount = mean_squared_error(y_test_rain_amount, y_pred_rain_amount)\n",
    "r2_rain_amount = r2_score(y_test_rain_amount, y_pred_rain_amount)\n",
    "\n",
    "print('MSE:', mse_rain_amount)\n",
    "print('R²:', r2_rain_amount)"
   ]
  },
  {
   "cell_type": "code",
   "execution_count": null,
   "metadata": {},
   "outputs": [],
   "source": [
    "# Kiểm tra kết quả dự đoán của model 2\n",
    "if y_pred_rain[0] == 1:  # Nếu có mưa\n",
    "    # Tạo DataFrame cho đầu vào của model 3 (dự đoán lượng mưa)\n",
    "    data_model3 = {\n",
    "        'max': [max_temp],\n",
    "        'min': [min_temp],\n",
    "        'wind': [wind_speed],\n",
    "        'wind_degree': [wind_degree],\n",
    "        'humidi': [humidity],\n",
    "        'cloud': [cloud],\n",
    "        'pressure': [pressure]\n",
    "    }\n",
    "\n",
    "    df_input_model3 = pd.DataFrame(data_model3)\n",
    "\n",
    "    # Nếu model 3 cần chuẩn hóa đầu vào\n",
    "    X_input_model3_scaled = scaler_rain_amount.transform(df_input_model3)\n",
    "\n",
    "    # Dự đoán với model 3\n",
    "    y_pred_rain_amount = model3.predict(X_input_model3_scaled)\n",
    "\n",
    "    # In kết quả dự đoán lượng mưa\n",
    "    print('Dự đoán lượng mưa cho Ho Chi Minh City vào ngày 2024-09-20:')\n",
    "    print('Lượng mưa dự đoán:', y_pred_rain_amount[0])  # Giá trị lượng mưa\n",
    "else:\n",
    "    print('Dự đoán cho Ho Chi Minh City vào ngày 2024-09-20: Không có mưa.')\n"
   ]
  },
  {
   "cell_type": "code",
   "execution_count": null,
   "metadata": {},
   "outputs": [],
   "source": [
    "import joblib\n",
    "\n",
    "joblib.dump(model1, 'weather_model.pkl')\n",
    "joblib.dump(model2, 'weather_model_rain.pkl')\n",
    "joblib.dump(model3, 'weather_model_rain_amount.pkl')\n",
    "joblib.dump(scaler, 'scaler.pkl')\n",
    "joblib.dump(encoder, 'encoder.pkl')\n",
    "joblib.dump(X_final, \"X_final.pkl\")"
   ]
  }
 ],
 "metadata": {
  "kernelspec": {
   "display_name": "env",
   "language": "python",
   "name": "python3"
  },
  "language_info": {
   "codemirror_mode": {
    "name": "ipython",
    "version": 3
   },
   "file_extension": ".py",
   "mimetype": "text/x-python",
   "name": "python",
   "nbconvert_exporter": "python",
   "pygments_lexer": "ipython3",
   "version": "3.11.9"
  }
 },
 "nbformat": 4,
 "nbformat_minor": 2
}
