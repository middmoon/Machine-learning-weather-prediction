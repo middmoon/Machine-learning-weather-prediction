{
 "cells": [
  {
   "cell_type": "code",
   "execution_count": 750,
   "metadata": {},
   "outputs": [],
   "source": [
    "#Model 1"
   ]
  },
  {
   "cell_type": "code",
   "execution_count": 14,
   "metadata": {},
   "outputs": [],
   "source": [
    "import pandas as pd\n",
    "from sklearn.model_selection import train_test_split\n",
    "from sklearn.preprocessing import StandardScaler, OneHotEncoder\n",
    "from sklearn.multioutput import MultiOutputRegressor\n",
    "from sklearn.linear_model import LinearRegression\n",
    "from sklearn.metrics import mean_squared_error, r2_score\n",
    "from sklearn.ensemble import RandomForestRegressor\n",
    "from sklearn.multioutput import MultiOutputRegressor"
   ]
  },
  {
   "cell_type": "code",
   "execution_count": 15,
   "metadata": {},
   "outputs": [],
   "source": [
    "df = pd.read_csv('weather.csv')"
   ]
  },
  {
   "cell_type": "code",
   "execution_count": 16,
   "metadata": {},
   "outputs": [],
   "source": [
    "unique_provinces = df['province'].unique()\n",
    "num_provinces = len(unique_provinces)\n",
    "\n",
    "# Mã hóa OneHotEncoder cho các tỉnh thành\n",
    "df_province = pd.DataFrame({'province': unique_provinces})\n",
    "onehot_encoder = OneHotEncoder(sparse_output=False)\n",
    "encoded_provinces = onehot_encoder.fit_transform(df_province[['province']])\n",
    "\n",
    "df_province_encoded = pd.DataFrame(encoded_provinces, columns=onehot_encoder.get_feature_names_out(['province']))\n",
    "\n",
    "# Thêm các cột mã hóa vào DataFrame gốc\n",
    "df = pd.concat([df.reset_index(drop=True), df_province_encoded.reset_index(drop=True)], axis=1)"
   ]
  },
  {
   "cell_type": "code",
   "execution_count": null,
   "metadata": {},
   "outputs": [],
   "source": [
    "# Xác định có mưa\n",
    "df['have_rain'] = df['rain'] > 0\n",
    "\n",
    "df['have_rain'] = df['have_rain'].astype(bool)\n",
    "\n",
    "# Kiểm tra phân tích hướng gió\n",
    "unique_wind_d = df['wind_d'].unique()\n",
    "num_wind_d = len(unique_wind_d)\n",
    "\n",
    "# Định dạng hướng gió\n",
    "wind_direction_mapping = {\n",
    "    'N': 0,\n",
    "    'NNE': 22.5,\n",
    "    'NE': 45,\n",
    "    'ENE': 67.5,\n",
    "    'E': 90,\n",
    "    'ESE': 112.5,\n",
    "    'SE': 135,\n",
    "    'SSE': 157.5,\n",
    "    'S': 180,\n",
    "    'SSW': 202.5,\n",
    "    'SW': 225,\n",
    "    'WSW': 247.5,\n",
    "    'W': 270,\n",
    "    'WNW': 292.5,\n",
    "    'NW': 315,\n",
    "    'NNW': 337.5\n",
    "}\n",
    "\n",
    "df['wind_degree'] = df['wind_d'].map(wind_direction_mapping)\n",
    "\n",
    "df['date'] = pd.to_datetime(df['date'])\n",
    "\n",
    "df['year'] = df['date'].dt.year\n",
    "df['month'] = df['date'].dt.month\n",
    "df['day'] = df['date'].dt.day\n",
    "df['day_of_week'] = df['date'].dt.day_name()  \n",
    "df['week_of_year'] = df['date'].dt.isocalendar().week \n",
    "df['year_quarter'] = df['date'].dt.to_period('Q').astype('int')\n",
    "df['month_period'] = df['date'].dt.to_period('M').astype('int')\n",
    "\n",
    "day_of_week_mapping = {\n",
    "    'Monday': 1,\n",
    "    'Tuesday': 2,\n",
    "    'Wednesday': 3,\n",
    "    'Thursday': 4,\n",
    "    'Friday': 5,\n",
    "    'Saturday': 6,\n",
    "    'Sunday': 7\n",
    "}\n",
    "\n",
    "df['day_of_week_encoded'] = df['day_of_week'].map(day_of_week_mapping)\n",
    "\n",
    "\n",
    "df.info()"
   ]
  },
  {
   "cell_type": "code",
   "execution_count": 18,
   "metadata": {},
   "outputs": [],
   "source": [
    "# Thay đổi X để sử dụng cột đã mã hóa\n",
    "X = df[['province', 'year', 'month', 'day', 'day_of_week_encoded', 'week_of_year', 'year_quarter', 'month_period']]\n",
    "y = df[['max', 'min', 'wind', 'wind_degree', 'humidi', 'cloud', 'pressure']]"
   ]
  },
  {
   "cell_type": "code",
   "execution_count": 19,
   "metadata": {},
   "outputs": [],
   "source": [
    "# Mã hóa tỉnh thành phố\n",
    "encoder = OneHotEncoder(sparse_output=False)\n",
    "X_encoded = encoder.fit_transform(X[['province']])\n",
    "X_encoded_df = pd.DataFrame(X_encoded, columns=encoder.get_feature_names_out(['province']))"
   ]
  },
  {
   "cell_type": "code",
   "execution_count": 20,
   "metadata": {},
   "outputs": [],
   "source": [
    "# Kết hợp các cột đã mã hóa với dữ liệu ngày tháng\n",
    "X_final = pd.concat([X.drop('province', axis=1), X_encoded_df], axis=1)"
   ]
  },
  {
   "cell_type": "code",
   "execution_count": 22,
   "metadata": {},
   "outputs": [],
   "source": [
    "# Chia dữ liệu thành tập huấn luyện và tập kiểm tra\n",
    "X_train, X_test, y_train, y_test = train_test_split(X_final, y, test_size=0.3, random_state=42)"
   ]
  },
  {
   "cell_type": "code",
   "execution_count": 23,
   "metadata": {},
   "outputs": [],
   "source": [
    "# Tiền xử lý dữ liệu (chuẩn hóa)\n",
    "scaler = StandardScaler()\n",
    "X_train_scaled = scaler.fit_transform(X_train)\n",
    "X_test_scaled = scaler.transform(X_test)"
   ]
  },
  {
   "cell_type": "code",
   "execution_count": 24,
   "metadata": {},
   "outputs": [],
   "source": [
    "model = MultiOutputRegressor(RandomForestRegressor(n_estimators=10, random_state=42))\n",
    "\n",
    "# Huấn luyện mô hình\n",
    "model.fit(X_train_scaled, y_train)\n",
    "\n",
    "model1 = model"
   ]
  },
  {
   "cell_type": "code",
   "execution_count": 25,
   "metadata": {},
   "outputs": [],
   "source": [
    "# Dự đoán trên tập kiểm tra\n",
    "y_pred = model1.predict(X_test_scaled)"
   ]
  },
  {
   "cell_type": "code",
   "execution_count": 30,
   "metadata": {},
   "outputs": [
    {
     "name": "stdout",
     "output_type": "stream",
     "text": [
      "Max Temperature - MSE: 3.199297464644244\n",
      "Max Temperature - R^2: 0.8465952888786461\n",
      "Min Temperature - MSE: 1.6806495933172123\n",
      "Min Temperature - R^2: 0.891760083673452\n",
      "Wind - MSE: 8.797175386531837\n",
      "Wind - R^2: 0.6861836180988545\n",
      "Wind Degree - MSE: 1720.2405233293032\n",
      "Wind Degree - R^2: 0.6595295176498941\n",
      "Humidity - MSE: 23.75777130504873\n",
      "Humidity - R^2: 0.7254508239601418\n",
      "Cloud - MSE: 238.5447365721404\n",
      "Cloud - R^2: 0.583872036941538\n",
      "Pressure - MSE: 2.710213416868175\n",
      "Pressure - R^2: 0.874013525133067\n"
     ]
    }
   ],
   "source": [
    "# Đánh giá mô hình\n",
    "print('Max Temperature - MSE:', mean_squared_error(y_test['max'], y_pred[:, 0]))\n",
    "print('Max Temperature - R^2:', r2_score(y_test['max'], y_pred[:, 0]))\n",
    "print('Min Temperature - MSE:', mean_squared_error(y_test['min'], y_pred[:, 1]))\n",
    "print('Min Temperature - R^2:', r2_score(y_test['min'], y_pred[:, 1]))\n",
    "print('Wind - MSE:', mean_squared_error(y_test['wind'], y_pred[:, 2]))\n",
    "print('Wind - R^2:', r2_score(y_test['wind'], y_pred[:, 2]))\n",
    "print('Wind Degree - MSE:', mean_squared_error(y_test['wind_degree'], y_pred[:, 3]))\n",
    "print('Wind Degree - R^2:', r2_score(y_test['wind_degree'], y_pred[:, 3]))\n",
    "print('Humidity - MSE:', mean_squared_error(y_test['humidi'], y_pred[:, 4]))\n",
    "print('Humidity - R^2:', r2_score(y_test['humidi'], y_pred[:, 4]))\n",
    "print('Cloud - MSE:', mean_squared_error(y_test['cloud'], y_pred[:, 5]))\n",
    "print('Cloud - R^2:', r2_score(y_test['cloud'], y_pred[:, 5]))\n",
    "print('Pressure - MSE:', mean_squared_error(y_test['pressure'], y_pred[:, 6]))\n",
    "print('Pressure - R^2:', r2_score(y_test['pressure'], y_pred[:, 6]))"
   ]
  },
  {
   "cell_type": "code",
   "execution_count": null,
   "metadata": {},
   "outputs": [],
   "source": [
    "# Tạo DataFrame cho ngày cụ thể\n",
    "data = {\n",
    "    'province': ['Ho Chi Minh City'],\n",
    "    'date': [pd.to_datetime('2024-09-20')],\n",
    "}\n",
    "\n",
    "df_input = pd.DataFrame(data)\n",
    "\n",
    "\n",
    "# Tiền xử lý dữ liệu đầu vào\n",
    "df_input['year'] = df_input['date'].dt.year\n",
    "df_input['month'] = df_input['date'].dt.month\n",
    "df_input['day'] = df_input['date'].dt.day\n",
    "df_input['day_of_week'] = df_input['date'].dt.day_name()\n",
    "df_input['week_of_year'] = df_input['date'].dt.isocalendar().week\n",
    "df_input['year_quarter'] = df_input['date'].dt.to_period('Q').astype('int')\n",
    "df_input['month_period'] = df_input['date'].dt.to_period('M').astype('int')\n",
    "\n",
    "day_of_week_mapping = {\n",
    "    'Monday': 1,\n",
    "    'Tuesday': 2,\n",
    "    'Wednesday': 3,\n",
    "    'Thursday': 4,\n",
    "    'Friday': 5,\n",
    "    'Saturday': 6,\n",
    "    'Sunday': 7\n",
    "}\n",
    "\n",
    "df_input['day_of_week_encoded'] = df_input['day_of_week'].map(day_of_week_mapping)\n",
    "\n",
    "# Mã hóa tỉnh thành\n",
    "province_encoded = encoder.transform(df_input[['province']])\n",
    "province_encoded_df = pd.DataFrame(province_encoded, columns=encoder.get_feature_names_out(['province']))\n",
    "\n",
    "# Kết hợp các cột đã mã hóa với dữ liệu ngày tháng\n",
    "X_input = pd.concat([df_input.drop(['province', 'date', 'day_of_week'], axis=1), province_encoded_df], axis=1)\n",
    "\n",
    "# Đảm bảo thứ tự cột đúng bằng cách sắp xếp lại theo thứ tự của X_train\n",
    "X_input = X_input.reindex(columns=X_final.columns, fill_value=0)\n",
    "\n",
    "# Chuẩn hóa dữ liệu đầu vào\n",
    "X_input_scaled = scaler.transform(X_input)\n",
    "\n",
    "# Dự đoán\n",
    "y_pred_input = model.predict(X_input_scaled)\n",
    "\n",
    "# In kết quả dự đoán\n",
    "print('Dự đoán cho Ho Chi Minh City vào ngày 2024-09-20:')\n",
    "print('Max Temperature:', y_pred_input[0, 0])\n",
    "print('Min Temperature:', y_pred_input[0, 1])\n",
    "print('Wind Speed:', y_pred_input[0, 2])\n",
    "print('Wind Degree:', y_pred_input[0, 3])\n",
    "print('Humidity:', y_pred_input[0, 4])\n",
    "print('Cloud:', y_pred_input[0, 5])\n",
    "print('Pressure:', y_pred_input[0, 6])\n"
   ]
  },
  {
   "cell_type": "code",
   "execution_count": null,
   "metadata": {},
   "outputs": [],
   "source": [
    "import joblib\n",
    "\n",
    "joblib.dump(model1, 'weather_model_r.pkl')"
   ]
  }
 ],
 "metadata": {
  "kernelspec": {
   "display_name": "env",
   "language": "python",
   "name": "python3"
  },
  "language_info": {
   "codemirror_mode": {
    "name": "ipython",
    "version": 3
   },
   "file_extension": ".py",
   "mimetype": "text/x-python",
   "name": "python",
   "nbconvert_exporter": "python",
   "pygments_lexer": "ipython3",
   "version": "3.11.9"
  }
 },
 "nbformat": 4,
 "nbformat_minor": 2
}
